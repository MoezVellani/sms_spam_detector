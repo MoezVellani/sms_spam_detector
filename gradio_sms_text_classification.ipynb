{
  "cells": [
    {
      "cell_type": "markdown",
      "metadata": {
        "id": "view-in-github",
        "colab_type": "text"
      },
      "source": [
        "<a href=\"https://colab.research.google.com/github/MoezVellani/sms_spam_detector/blob/main/gradio_sms_text_classification.ipynb\" target=\"_parent\"><img src=\"https://colab.research.google.com/assets/colab-badge.svg\" alt=\"Open In Colab\"/></a>"
      ]
    },
    {
      "cell_type": "code",
      "execution_count": null,
      "metadata": {
        "id": "VCNgjTcX8dM9"
      },
      "outputs": [],
      "source": [
        "# Import pandas\n",
        "import pandas as pd\n",
        "# Import the required dependencies from sklearn\n",
        "from sklearn.model_selection import train_test_split\n",
        "from sklearn.pipeline import Pipeline\n",
        "from sklearn.feature_extraction.text import TfidfVectorizer\n",
        "from sklearn.svm import LinearSVC\n",
        "\n",
        "# Set the column width to view the text message data.\n",
        "pd.set_option('max_colwidth', 200)\n",
        "\n",
        "# Import Gradio\n",
        "!pip install gradio\n",
        "import gradio as gr"
      ]
    },
    {
      "cell_type": "code",
      "execution_count": 19,
      "metadata": {
        "id": "nidK4WjL8dM-"
      },
      "outputs": [],
      "source": [
        "def sms_classification(sms_text_df):\n",
        "    \"\"\"\n",
        "    Perform SMS classification using a pipeline with TF-IDF vectorization and Linear Support Vector Classification.\n",
        "\n",
        "    Parameters:\n",
        "    - sms_text_df (pd.DataFrame): DataFrame containing 'text_message' and 'label' columns for SMS classification.\n",
        "\n",
        "    Returns:\n",
        "    - text_clf (Pipeline): Fitted pipeline model for SMS classification.\n",
        "\n",
        "    This function takes a DataFrame with 'text_message' and 'label' columns, splits the data into\n",
        "    training and testing sets, builds a pipeline with TF-IDF vectorization and Linear Support Vector\n",
        "    Classification, and fits the model to the training data.\n",
        "    The fitted pipeline is returned to make future predictions.\n",
        "    \"\"\"\n",
        "    # Set the features variable to the text message column.\n",
        "    features = sms_text_df['text_message']\n",
        "    # Set the target variable to the \"label\" column.\n",
        "    target = sms_text_df['label']\n",
        "\n",
        "    # Split data into training and testing and set the test_size = 33%\n",
        "    X_train, X_test, y_train, y_test = train_test_split(features, target, test_size=0.33, random_state=42)\n",
        "\n",
        "\n",
        "    # Build a pipeline to transform the test set to compare to the training set.\n",
        "    pipeline = Pipeline([\n",
        "        ('tfidf', TfidfVectorizer()),\n",
        "        ('clf', LinearSVC())\n",
        "    ])\n",
        "\n",
        "    # Fit the model to the transformed training data and return model.\n",
        "    model = pipeline.fit(X_train, y_train)\n",
        "    return model"
      ]
    },
    {
      "cell_type": "code",
      "execution_count": 20,
      "metadata": {
        "colab": {
          "base_uri": "https://localhost:8080/"
        },
        "id": "UpickPfB8dM_",
        "outputId": "e4abbb3f-09cc-4baa-bf3c-230349cc93da"
      },
      "outputs": [
        {
          "output_type": "stream",
          "name": "stdout",
          "text": [
            "Drive already mounted at /content/drive; to attempt to forcibly remount, call drive.mount(\"/content/drive\", force_remount=True).\n"
          ]
        }
      ],
      "source": [
        "# Load the dataset into a DataFrame\n",
        "from google.colab import drive\n",
        "drive.mount('/content/drive')\n",
        "df = pd.read_csv('/content/drive/MyDrive/SMSSpamCollection.csv')"
      ]
    },
    {
      "cell_type": "code",
      "execution_count": 21,
      "metadata": {
        "id": "aCHz5R_H8dNA"
      },
      "outputs": [],
      "source": [
        "# Call the sms_classification function with the DataFrame and set the result to the \"text_clf\" variable\n",
        "text_clf = sms_classification(df)"
      ]
    },
    {
      "cell_type": "code",
      "execution_count": 22,
      "metadata": {
        "id": "cLY5fInH8dNA"
      },
      "outputs": [],
      "source": [
        "# Create a function called `sms_prediction` that takes in the SMS text and predicts the whether the text is \"not spam\" or \"spam\".\n",
        "# The function should return the SMS message, and say whether the text is \"not spam\" or \"spam\".\n",
        "def sms_prediction(text):\n",
        "    \"\"\"\n",
        "    Predict the spam/ham classification of a given text message using a pre-trained model.\n",
        "\n",
        "    Parameters:\n",
        "    - text (str): The text message to be classified.\n",
        "\n",
        "    Returns:\n",
        "    - str: A message indicating whether the text message is classified as spam or not.\n",
        "\n",
        "    This function takes a text message and a pre-trained pipeline model, then predicts the\n",
        "    spam/ham classification of the text. The result is a message stating whether the text is\n",
        "    classified as spam or not.\n",
        "    \"\"\"\n",
        "    # Create a variable that will hold the prediction of a new text.\n",
        "    prediction = text_clf.predict([text])[0]\n",
        "\n",
        "    # Using a conditional if the prediction is \"ham\" return the message:\n",
        "    # f'The text message: \"{text}\", is not spam.' Else, return f'The text message: \"{text}\", is spam.'\n",
        "    if prediction == 'ham':\n",
        "        return f'The text message: \"{text}\", is not spam.'\n",
        "    else:\n",
        "        return f'The text message: \"{text}\", is spam.'\n"
      ]
    },
    {
      "cell_type": "code",
      "execution_count": 30,
      "metadata": {
        "colab": {
          "base_uri": "https://localhost:8080/",
          "height": 626
        },
        "id": "LWXwgYFL8dNA",
        "outputId": "45a5ac89-c962-4a41-d726-a7bd1c008940"
      },
      "outputs": [
        {
          "output_type": "stream",
          "name": "stdout",
          "text": [
            "Setting queue=True in a Colab notebook requires sharing enabled. Setting `share=True` (you can turn this off by setting `share=False` in `launch()` explicitly).\n",
            "\n",
            "Colab notebook detected. To show errors in colab notebook, set debug=True in launch()\n",
            "Running on public URL: https://a4cccd20dd67c50195.gradio.live\n",
            "\n",
            "This share link expires in 72 hours. For free permanent hosting and GPU upgrades, run `gradio deploy` from Terminal to deploy to Spaces (https://huggingface.co/spaces)\n"
          ]
        },
        {
          "output_type": "display_data",
          "data": {
            "text/plain": [
              "<IPython.core.display.HTML object>"
            ],
            "text/html": [
              "<div><iframe src=\"https://a4cccd20dd67c50195.gradio.live\" width=\"100%\" height=\"500\" allow=\"autoplay; camera; microphone; clipboard-read; clipboard-write;\" frameborder=\"0\" allowfullscreen></iframe></div>"
            ]
          },
          "metadata": {}
        },
        {
          "output_type": "execute_result",
          "data": {
            "text/plain": []
          },
          "metadata": {},
          "execution_count": 30
        }
      ],
      "source": [
        "# Create a sms_app that takes a textbox for the inputs and has a textbox for the output.\n",
        "# Povide labels for each textbox.\n",
        "input_text = gr.Textbox(lines=5, label=\"Input SMS Text\")\n",
        "output_text = gr.Textbox(label=\"Output\")\n",
        "\n",
        "# Create the Gradio interface\n",
        "sms_app = gr.Interface(\n",
        "    fn=sms_prediction,\n",
        "    inputs=input_text,\n",
        "    outputs=output_text,\n",
        "    title=\"SMS Text Classification\",\n",
        "    description=\"Enter an SMS text message to classify whether it's spam or not.\"\n",
        ")\n",
        "\n",
        "# Launch the app.\n",
        "sms_app.launch()"
      ]
    },
    {
      "cell_type": "markdown",
      "metadata": {
        "id": "XsQ5PNZo8dNB"
      },
      "source": [
        "## Test the following text messages.\n",
        "\n",
        "---\n",
        "\n",
        "1. You are a lucky winner of $5000!\n",
        "2. You won 2 free tickets to the Super Bowl.\n",
        "3. You won 2 free tickets to the Super Bowl text us to claim your prize.\n",
        "4. Thanks for registering. Text 4343 to receive free updates on medicare."
      ]
    },
    {
      "cell_type": "code",
      "execution_count": null,
      "metadata": {
        "id": "sYEcRLzs8dNC"
      },
      "outputs": [],
      "source": []
    }
  ],
  "metadata": {
    "kernelspec": {
      "display_name": "Python 3 (ipykernel)",
      "language": "python",
      "name": "python3"
    },
    "language_info": {
      "codemirror_mode": {
        "name": "ipython",
        "version": 3
      },
      "file_extension": ".py",
      "mimetype": "text/x-python",
      "name": "python",
      "nbconvert_exporter": "python",
      "pygments_lexer": "ipython3",
      "version": "3.10.12"
    },
    "colab": {
      "provenance": [],
      "include_colab_link": true
    }
  },
  "nbformat": 4,
  "nbformat_minor": 0
}